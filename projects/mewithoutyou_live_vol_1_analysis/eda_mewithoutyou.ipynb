{
 "cells": [
  {
   "cell_type": "code",
   "execution_count": null,
   "id": "873ede42-2ec9-4a08-908c-e9075bf8b606",
   "metadata": {},
   "outputs": [],
   "source": [
    "import sys\n",
    "import os\n",
    "\n",
    "PROJECT_ROOT = os.path.abspath(os.path.join(os.path.dirname(\"\"), \"../../\"))\n",
    "sys.path.insert(0, PROJECT_ROOT)\n",
    "\n",
    "import pandas as pd\n",
    "import matplotlib.pyplot as plt\n",
    "import seaborn as sns\n",
    "\n",
    "from postgres import fetch_table,run_query\n",
    "\n",
    "import logging\n",
    "\n",
    "logging.basicConfig(level=logging.INFO)  # DEBUG < INFO < WARNING < ERROR < CRITICAL\n",
    "\n",
    "pd.set_option(\"display.max_columns\", None)  # Show all columns"
   ]
  },
  {
   "cell_type": "code",
   "execution_count": null,
   "id": "db381242-e4d1-449f-a6c2-0850f4c7694d",
   "metadata": {},
   "outputs": [],
   "source": [
    "# Fetch analytics tables from the mart\n",
    "tracks_df = fetch_table(\"mart_all_tracks\")\n",
    "setlist_df = fetch_table(\"mart_setlist_history\")\n",
    "albums_df = fetch_table(\"mart_all_albums\")\n",
    "track_setlist_df = fetch_table(\"mart_track_setlist_similarity_scores\")"
   ]
  },
  {
   "cell_type": "code",
   "execution_count": null,
   "id": "dfeba910-4a47-4029-ae65-94a14284a2f9",
   "metadata": {},
   "outputs": [],
   "source": [
    "# fetch combined table with filtering of albums not relevant and \n",
    "\n",
    "query=\"\"\"\n",
    "with track_link_cte as (\n",
    "\tselect \n",
    " \t\tsim.event_set_song_id\n",
    " \t\t,sim.track_id\n",
    " \t\t,row_number() over (partition by sim.event_set_song_id order by similarity_score desc nulls last) as similarity_rank_post_filter\n",
    "\t from \n",
    "\t \tanalytics_mart.mart_track_setlist_similarity_scores as sim \n",
    "\t \tjoin analytics_mart.mart_all_tracks as all_tr\n",
    "\t \t\ton sim.track_id = all_tr.track_id\n",
    "\t where true\n",
    "\t \tand all_tr.album_id not in ('4bGIhBIGsziCakPziupVmQ','39P5R1B5XF1dGhpojrukVA','06y12naBReESEe7u2OFG7j')\n",
    ")\n",
    ", track_link_filtered_cte as (\n",
    "\tselect \n",
    " \t\t*\n",
    "\t from \n",
    "\t \ttrack_link_cte\n",
    "\t where true\n",
    "\t \tand similarity_rank_post_filter = 1\n",
    ")\n",
    "select \n",
    "\tmsh.*\n",
    "\t,tr.*\n",
    "from \n",
    "\tanalytics_mart.mart_setlist_history as msh\n",
    "\tleft join track_link_filtered_cte as tl_cte\n",
    "\t\ton msh.event_set_song_id = tl_cte.event_set_song_id\n",
    "\tleft join analytics_mart.mart_all_tracks as tr\n",
    "\t\ton tl_cte.track_id = tr.track_id\n",
    "where true\n",
    "\"\"\"\n",
    "\n",
    "df = run_query(query)\n",
    "\n",
    "df.head(5)"
   ]
  },
  {
   "cell_type": "code",
   "execution_count": null,
   "id": "c9655153-555e-417c-a783-d0b5d6f84591",
   "metadata": {},
   "outputs": [],
   "source": [
    "print(df['event_date'].dtype)"
   ]
  },
  {
   "cell_type": "code",
   "execution_count": null,
   "id": "dacad56d-5bf2-4859-81ee-27e26d6f520e",
   "metadata": {},
   "outputs": [],
   "source": [
    "df.event_id.nunique()"
   ]
  },
  {
   "cell_type": "code",
   "execution_count": null,
   "id": "dd0193fe-3622-4a99-b5d8-1e66b5f61c68",
   "metadata": {},
   "outputs": [],
   "source": [
    "df.event_date.min()"
   ]
  },
  {
   "cell_type": "code",
   "execution_count": null,
   "id": "1ffb02b6-f4b6-4a56-ba24-df1002cfca5d",
   "metadata": {},
   "outputs": [],
   "source": [
    "df['event_date'] = pd.to_datetime(df['event_date'], errors='coerce')\n",
    "\n",
    "df['year'] = df['event_date'].dt.year\n",
    "\n",
    "event_counts = df.groupby('year')['event_url'].nunique()\n",
    "\n",
    "event_counts"
   ]
  },
  {
   "cell_type": "code",
   "execution_count": null,
   "id": "1f549f82-2315-4de4-82f6-644c7a7fbe13",
   "metadata": {},
   "outputs": [],
   "source": [
    "event_counts.plot(kind='bar', title='Unique Events per Year', figsize=(10, 4))"
   ]
  },
  {
   "cell_type": "code",
   "execution_count": null,
   "id": "7a89e90b-b745-4232-990b-8cee40d0d90d",
   "metadata": {},
   "outputs": [],
   "source": [
    "df['song_name'].value_counts()"
   ]
  },
  {
   "cell_type": "code",
   "execution_count": null,
   "id": "c1430fed-72c4-4e18-98f8-ddf2859c404a",
   "metadata": {},
   "outputs": [],
   "source": [
    "df_recent = df[df.event_date >= '2019-01-01'].reset_index(drop=True)\n",
    "\n",
    "df_recent"
   ]
  },
  {
   "cell_type": "code",
   "execution_count": null,
   "id": "7743f7db-fdec-48cd-9933-b46bbd6e54c2",
   "metadata": {},
   "outputs": [],
   "source": [
    "df_recent['covid_era'] = df_recent['event_date'].apply(\n",
    "    lambda d: 'pre' if d < pd.Timestamp('2020-03-01') else 'post'\n",
    ")\n",
    "\n",
    "song_counts = (\n",
    "    df_recent\n",
    "    .groupby(['covid_era', 'song_name'])\n",
    "    .size()\n",
    "    .reset_index(name='count')\n",
    ")\n",
    "\n",
    "# Normalize by total shows per era (since they likely did fewer shows post-2020)\n",
    "total_shows = df_recent.groupby('covid_era')['event_date'].nunique().to_dict()\n",
    "\n",
    "song_counts['per_show'] = song_counts.apply(\n",
    "    lambda row: row['count'] / total_shows[row['covid_era']], axis=1\n",
    ")"
   ]
  },
  {
   "cell_type": "code",
   "execution_count": null,
   "id": "05ba0710-49e0-435d-ac82-67c72cfcfedf",
   "metadata": {},
   "outputs": [],
   "source": [
    "# Pivot table to see differences\n",
    "pivot = song_counts.pivot(index='song_name', columns='covid_era', values='per_show').fillna(0)\n",
    "\n",
    "# Add a column for difference\n",
    "pivot['change'] = pivot['post'] - pivot['pre']\n",
    "\n",
    "# See most increased/decreased songs\n",
    "pivot.sort_values('change', ascending=False).head(10)  # Most more-played post-COVID\n",
    "pivot.sort_values('change').head(10)                   # Most dropped post-COVID"
   ]
  },
  {
   "cell_type": "code",
   "execution_count": null,
   "id": "8b08c5ec-ec7a-440d-be41-3ceee1bc8d20",
   "metadata": {},
   "outputs": [],
   "source": [
    "pivot.loc[pivot['change'].abs() > 0.1][['pre', 'post']].plot(kind='barh', figsize=(10, 12))"
   ]
  },
  {
   "cell_type": "code",
   "execution_count": null,
   "id": "7a05d305-f292-4bdb-95d6-e1629a387a3b",
   "metadata": {},
   "outputs": [],
   "source": [
    "query_song_prob=\"\"\"\n",
    "with track_link_cte as (\n",
    "\tselect \n",
    " \t\tsim.event_set_song_id\n",
    " \t\t,sim.track_id\n",
    " \t\t,row_number() over (partition by sim.event_set_song_id order by similarity_score desc nulls last) as similarity_rank_post_filter\n",
    "\t from \n",
    "\t \tanalytics_mart.mart_track_setlist_similarity_scores as sim \n",
    "\t \tjoin analytics_mart.mart_all_tracks as all_tr\n",
    "\t \t\ton sim.track_id = all_tr.track_id\n",
    "\t where true\n",
    "\t \tand all_tr.album_id not in ('4bGIhBIGsziCakPziupVmQ','39P5R1B5XF1dGhpojrukVA','06y12naBReESEe7u2OFG7j')\n",
    ")\n",
    ", track_link_filtered_cte as (\n",
    "\tselect \n",
    " \t\t*\n",
    "\t from \n",
    "\t \ttrack_link_cte\n",
    "\t where true\n",
    "\t \tand similarity_rank_post_filter = 1\n",
    ")\n",
    ", setlist_clean_cte as (\n",
    "\tselect \n",
    "\t\tmsh.*\n",
    "\t\t,tr.*\n",
    "\tfrom \n",
    "\t\tanalytics_mart.mart_setlist_history as msh\n",
    "\t\tleft join track_link_filtered_cte as tl_cte\n",
    "\t\t\ton msh.event_set_song_id = tl_cte.event_set_song_id\n",
    "\t\tleft join analytics_mart.mart_all_tracks as tr\n",
    "\t\t\ton tl_cte.track_id = tr.track_id\n",
    "\twhere true\n",
    ")\n",
    ", events_per_tour as (\n",
    "\tselect \n",
    "\t\tevent_tour_id\n",
    "\t\t,count(distinct event_id) as total_events\n",
    "\tfrom \n",
    "\t\tsetlist_clean_cte \n",
    "\tgroup by \n",
    "\t\t1\n",
    ")\n",
    "select \n",
    "\tst.event_tour_id\n",
    "\t,st.song_name\n",
    "    ,st.event_tour\n",
    "\t,count(distinct st.event_id) as total_times_played\n",
    "\t,max(tour.total_events) as total_chances_to_play\n",
    "\t,(count(distinct st.event_id)*1.00) / max(tour.total_events) as song_probability_in_tour\n",
    "from \n",
    "\tsetlist_clean_cte as st\n",
    "\tjoin events_per_tour as tour\n",
    "\t\ton st.event_tour_id = tour.event_tour_id\n",
    "where true \n",
    "group by \n",
    "\t1,2,3\n",
    ";\n",
    "\"\"\"\n",
    "\n",
    "song_tour_prob_df = run_query(query_song_prob)\n",
    "\n",
    "song_tour_prob_df.head(5)"
   ]
  },
  {
   "cell_type": "code",
   "execution_count": null,
   "id": "f15baf2d-dd94-45e8-9333-db3b2182b291",
   "metadata": {},
   "outputs": [],
   "source": [
    "from scipy.stats import entropy\n",
    "\n",
    "\n",
    "song_tour_prob_df['norm_prob'] = song_tour_prob_df.groupby('event_tour_id')['song_probability_in_tour'].transform(lambda x: x / x.sum())\n",
    "\n",
    "# Define a helper function\n",
    "def calculate_entropy(group):\n",
    "    probs = group['norm_prob'].values\n",
    "    return pd.Series({'entropy': entropy(probs, base=2)})\n",
    "\n",
    "entropy_by_tour = song_tour_prob_df.groupby('event_tour_id').apply(calculate_entropy).reset_index()\n",
    "\n",
    "entropy_by_tour.head(30)"
   ]
  },
  {
   "cell_type": "code",
   "execution_count": null,
   "id": "0e5f9730-acea-4158-823b-be92c48b014e",
   "metadata": {},
   "outputs": [],
   "source": [
    "import numpy as np\n",
    "\n",
    "entropy_shows = (\n",
    "    song_tour_prob_df\n",
    "    .merge(entropy_by_tour, on=\"event_tour_id\")\n",
    "    .groupby(['event_tour_id', 'event_tour'])[['total_chances_to_play', 'entropy']]\n",
    "    .max()\n",
    "    .reset_index()\n",
    ")\n",
    "\n",
    "\n",
    "plt.figure(figsize=(10, 6))\n",
    "plt.scatter(entropy_shows['total_chances_to_play'], entropy_shows['entropy'])\n",
    "\n",
    "np.random.seed(42)\n",
    "\n",
    "for _, row in entropy_shows.iterrows():\n",
    "    y_offset = np.random.choice([-0.1, 0.1])\n",
    "    if row['entropy'] > 4.5 or row['entropy'] < 4.5:  # label outliers\n",
    "        plt.text(\n",
    "            row['total_chances_to_play'] + 0.5\n",
    "            , row['entropy'] + y_offset\n",
    "            , row['event_tour']\n",
    "            , fontsize=6)\n",
    "\n",
    "plt.xlabel(\"Number of Shows in Tour\")\n",
    "plt.ylabel(\"Setlist Entropy (bits)\")\n",
    "plt.title(\"Setlist Entropy vs. Tour Length (mewithoutYou)\")\n",
    "plt.grid(True)\n",
    "plt.tight_layout()\n",
    "plt.show()"
   ]
  },
  {
   "cell_type": "code",
   "execution_count": null,
   "id": "8a4d3c00-22b3-4cd7-be03-f93d13b9e838",
   "metadata": {},
   "outputs": [],
   "source": [
    "tours_df = (\n",
    "    df.groupby('event_tour_id')['event_date']\n",
    "    .min()\n",
    "    .reset_index()\n",
    "    )\n",
    "\n",
    "tours_df = tours_df.merge(entropy_shows, on='event_tour_id')\n",
    "\n",
    "tours_df['effective_setlist_size']= 2 ** tours_df['entropy']\n",
    "\n",
    "tours_df_sorted = tours_df.sort_values('event_date').reset_index(drop=True)\n",
    "\n",
    "plt.figure(figsize=(14, 6))\n",
    "plt.bar(tours_df_sorted['event_tour'], tours_df_sorted['entropy'])\n",
    "\n",
    "plt.xticks(rotation=75, ha='right', fontsize=8)\n",
    "plt.ylabel(\"Setlist Entropy (bits)\")\n",
    "plt.title(\"Setlist Entropy by Tour (Chronological Order)\")\n",
    "plt.tight_layout()\n",
    "plt.grid(axis='y', linestyle='--', alpha=0.5)\n",
    "plt.show()"
   ]
  },
  {
   "cell_type": "code",
   "execution_count": null,
   "id": "1973bd41-a9d4-412a-a045-0f305dde922b",
   "metadata": {},
   "outputs": [],
   "source": [
    "plt.figure(figsize=(14, 6))\n",
    "plt.bar(tours_df_sorted['event_tour'], tours_df_sorted['effective_setlist_size'])\n",
    "\n",
    "plt.xticks(rotation=75, ha='right', fontsize=8)\n",
    "plt.ylabel(\"Effective Setlist Size (2^entropy)\")\n",
    "plt.title(\"Estimated Setlist Diversity by Tour (mewithoutYou)\")\n",
    "plt.grid(axis='y', linestyle='--', alpha=0.5)\n",
    "plt.tight_layout()\n",
    "plt.show()"
   ]
  }
 ],
 "metadata": {
  "kernelspec": {
   "display_name": "Python 3 (ipykernel)",
   "language": "python",
   "name": "python3"
  },
  "language_info": {
   "codemirror_mode": {
    "name": "ipython",
    "version": 3
   },
   "file_extension": ".py",
   "mimetype": "text/x-python",
   "name": "python",
   "nbconvert_exporter": "python",
   "pygments_lexer": "ipython3",
   "version": "3.13.2"
  }
 },
 "nbformat": 4,
 "nbformat_minor": 5
}
