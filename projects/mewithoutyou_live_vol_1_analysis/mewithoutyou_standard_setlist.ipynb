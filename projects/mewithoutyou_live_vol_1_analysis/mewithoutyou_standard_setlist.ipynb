{
 "cells": [
  {
   "cell_type": "markdown",
   "id": "925685f2-95ac-45c9-bc17-bb4b56fe32cf",
   "metadata": {},
   "source": [
    "# The Anatomy of a mewithoutYou Setlist\n",
    "Exploring mewithoutYou's 2018-2019 [Untitled] Tour"
   ]
  },
  {
   "cell_type": "markdown",
   "id": "67ca2ff3-df9c-469f-b117-4faf59b03eb2",
   "metadata": {},
   "source": [
    "## Standard Analysis Setup"
   ]
  },
  {
   "cell_type": "code",
   "execution_count": null,
   "id": "52c2349b-83a3-4e6d-92f0-cb0d25fd1f41",
   "metadata": {},
   "outputs": [],
   "source": [
    "# Standard imports to run concert_analytics\n",
    "\n",
    "import sys\n",
    "import os\n",
    "\n",
    "PROJECT_ROOT = os.path.abspath(os.path.join(os.path.dirname(\"\"), \"../../\"))\n",
    "sys.path.insert(0, PROJECT_ROOT)\n",
    "\n",
    "import pandas as pd\n",
    "import matplotlib.pyplot as plt\n",
    "import seaborn as sns\n",
    "\n",
    "from postgres import fetch_table,run_query\n",
    "\n",
    "import logging\n",
    "\n",
    "logging.basicConfig(level=logging.INFO)  # DEBUG < INFO < WARNING < ERROR < CRITICAL\n",
    "\n",
    "pd.set_option(\"display.max_columns\", None)  # Show all columns\n",
    "\n",
    "plt.rcParams.update({\n",
    "    'font.family': 'DejaVu Sans',\n",
    "    'font.size': 12,\n",
    "    'axes.titlesize': 20,\n",
    "    'axes.titleweight': 'bold',\n",
    "    'axes.labelsize': 14,\n",
    "    'axes.edgecolor': '#777777',\n",
    "    'xtick.color': '#1C1C1C',\n",
    "    'ytick.color': '#1C1C1C',\n",
    "    'axes.facecolor': '#FAF3E0',\n",
    "    'figure.facecolor': '#FAF3E0',\n",
    "    'grid.color': '#777777',\n",
    "    'grid.linestyle': '--',\n",
    "    'axes.grid': True,\n",
    "    'legend.frameon': False,\n",
    "})\n",
    "\n",
    "\n",
    "album_colors = {\n",
    "    '[Untitled]': '#264653',\n",
    "    '[A→B] Life': '#2a9d8f',\n",
    "    'Catch for Us the Foxes': '#e9c46a',\n",
    "    'Brother, Sister': '#f4a261',\n",
    "    'It’s All Crazy...': '#e76f51',\n",
    "    'Ten Stories': '#8d99ae',\n",
    "    'Pale Horses': '#6a4c93'\n",
    "}"
   ]
  },
  {
   "cell_type": "markdown",
   "id": "678bfe10-eb03-4e93-addb-b30fa3753c8e",
   "metadata": {},
   "source": [
    "## Fetch our dataset"
   ]
  },
  {
   "cell_type": "code",
   "execution_count": null,
   "id": "976e21cf-cbaa-4dd4-b864-15dd9571b286",
   "metadata": {},
   "outputs": [],
   "source": [
    "# fetch setlist and spotify metadata\n",
    "\n",
    "query=\"\"\"\n",
    "with track_link_cte as (\n",
    "\tselect \n",
    " \t\tsim.event_set_song_id\n",
    " \t\t,sim.track_id\n",
    " \t\t,row_number() over (partition by sim.event_set_song_id order by similarity_score desc nulls last) as similarity_rank_post_filter\n",
    "\t from \n",
    "\t \tanalytics_mart.mart_track_setlist_similarity_scores as sim \n",
    "\t \tjoin analytics_mart.mart_all_tracks as all_tr\n",
    "\t \t\ton sim.track_id = all_tr.track_id\n",
    "\t where true\n",
    "\t \tand all_tr.album_id not in ('4bGIhBIGsziCakPziupVmQ','39P5R1B5XF1dGhpojrukVA','06y12naBReESEe7u2OFG7j')\n",
    ")\n",
    ", track_link_filtered_cte as (\n",
    "\tselect \n",
    " \t\t*\n",
    "\t from \n",
    "\t \ttrack_link_cte\n",
    "\t where true\n",
    "\t \tand similarity_rank_post_filter = 1\n",
    ")\n",
    "select \n",
    "\tmsh.*\n",
    "\t,tr.*\n",
    "from \n",
    "\tanalytics_mart.mart_setlist_history as msh\n",
    "\tleft join track_link_filtered_cte as tl_cte\n",
    "\t\ton msh.event_set_song_id = tl_cte.event_set_song_id\n",
    "\tleft join analytics_mart.mart_all_tracks as tr\n",
    "\t\ton tl_cte.track_id = tr.track_id\n",
    "where true\n",
    "    and msh.event_tour_id = 'dff91b2e201d2bfdb4f7a16b57c62194'\n",
    "\"\"\"\n",
    "\n",
    "df = run_query(query)"
   ]
  },
  {
   "cell_type": "markdown",
   "id": "d8409caf-76fa-49c9-8420-462488a7590a",
   "metadata": {},
   "source": [
    "## How many songs per night?"
   ]
  },
  {
   "cell_type": "code",
   "execution_count": null,
   "id": "a75fc959-44e9-4ccc-b3fb-72d1e9bb818a",
   "metadata": {},
   "outputs": [],
   "source": [
    "# songs_per_night = \n",
    "songs_per_night = (\n",
    "    df.groupby('event_date')['event_set_song_id']\n",
    "    .nunique()\n",
    "    .reset_index(name='unique_song_count')\n",
    "    .sort_values('event_date')\n",
    ")\n",
    "\n",
    "plt.figure(figsize=(14, 6))\n",
    "plt.bar(songs_per_night['event_date'], songs_per_night['unique_song_count'], color='#33C27D')\n",
    "\n",
    "plt.xticks(rotation=45, ha='right')\n",
    "plt.xlabel('Show Date')\n",
    "plt.ylabel('Unique Songs Played')\n",
    "plt.title('Unique Songs per Night – mewithoutYou [Untitled] Tour')\n",
    "plt.tight_layout()\n",
    "\n",
    "plt.show()"
   ]
  },
  {
   "cell_type": "markdown",
   "id": "d327f8b5-8d0c-4809-b5b2-ae3ccb42a3e4",
   "metadata": {},
   "source": [
    "## How Many Unique Songs were Played in Total?"
   ]
  },
  {
   "cell_type": "code",
   "execution_count": null,
   "id": "cf5ced3e-f487-4192-a951-923a9926e786",
   "metadata": {},
   "outputs": [],
   "source": [
    "def preview_palette(color_dict):\n",
    "    fig, ax = plt.subplots(figsize=(8, 1))\n",
    "    for i, (label, color) in enumerate(color_dict.items()):\n",
    "        ax.bar(i, 1, color=color)\n",
    "        ax.text(i, -0.3, label, ha='center', fontsize=10, rotation=45)\n",
    "    ax.set_xticks([])\n",
    "    ax.set_yticks([])\n",
    "    ax.set_xlim(-0.5, len(color_dict)-0.5)\n",
    "    ax.set_title(\"Custom Album Color Palette\")\n",
    "    plt.show()\n",
    "\n",
    "preview_palette(album_colors)"
   ]
  },
  {
   "cell_type": "code",
   "execution_count": null,
   "id": "7687fd00-cb60-44f8-a0cd-8ba4dca73221",
   "metadata": {},
   "outputs": [],
   "source": [
    "# songs_per_night = \n",
    "songs_albums = (\n",
    "    df.groupby(['track_name','album_name'])['event_set_song_id']\n",
    "    .nunique()\n",
    "    .reset_index(name=\"times_played\")\n",
    "    .sort_values('times_played')\n",
    "    .reset_index(drop=True)\n",
    ")\n",
    "\n",
    "songs_albums\n",
    "\n",
    "# Set up the figure\n",
    "plt.figure(figsize=(16, 24))\n",
    "\n",
    "# Create color palette based on albums\n",
    "album_colors = {\n",
    "    \"A To B Life\": \"#A7ECF5\",\n",
    "    \"Brother, Sister\": \"#5D4E8C\",\n",
    "    \"Catch For Us The Foxes\": \"#3C7DC4\",\n",
    "    \"It's All Crazy! It's All False! It's All A Dream! It's Alright\": \"#D64848\",\n",
    "    \"Pale Horses\": \"#F25C05\",\n",
    "    \"Pale Horses: Appendix\":\"#F1FF72\",\n",
    "    \"Ten Stories\": \"#8E508D\",\n",
    "    \"[Untitled]\": \"#33C27D\",\n",
    "    \"[untitled] e.p.\": \"#F6DA89\"\n",
    "}\n",
    "\n",
    "# Plot each bar with color by album\n",
    "bar_colors = songs_albums['album_name'].map(album_colors)\n",
    "plt.barh(\n",
    "    songs_albums['track_name'],\n",
    "    songs_albums['times_played'],\n",
    "    color=bar_colors\n",
    ")\n",
    "\n",
    "# Labels and title\n",
    "plt.xlabel(\"Number of Times Played\")\n",
    "plt.ylabel(\"Song\")\n",
    "plt.title(\"Song Frequency on the mewithoutYou [Untitled] Tour\")\n",
    "plt.tight_layout()\n",
    "\n",
    "# Add legend for albums\n",
    "from matplotlib.patches import Patch\n",
    "legend_patches = [Patch(color=color, label=album) for album, color in album_colors.items()]\n",
    "plt.legend(handles=legend_patches, title='Album', bbox_to_anchor=(1.05, 1), loc='upper left')\n",
    "\n",
    "plt.show()"
   ]
  },
  {
   "cell_type": "code",
   "execution_count": null,
   "id": "bb643448-4682-4128-90d4-3c33b57a16a2",
   "metadata": {},
   "outputs": [],
   "source": []
  },
  {
   "cell_type": "code",
   "execution_count": null,
   "id": "b44c5885-5863-4871-916f-261a79c52949",
   "metadata": {},
   "outputs": [],
   "source": []
  },
  {
   "cell_type": "code",
   "execution_count": null,
   "id": "05523b46-009c-4c8e-9a36-ec4764c7d38f",
   "metadata": {},
   "outputs": [],
   "source": [
    "# unique songs per album\n",
    "\n",
    "# Count how many unique songs from each album were played\n",
    "unique_songs_by_album = (\n",
    "    songs_albums.groupby('album_name')['track_name']\n",
    "    .nunique()\n",
    "    .reset_index(name='unique_song_count')\n",
    "    .sort_values('unique_song_count', ascending=False)\n",
    ")\n",
    "\n",
    "\n",
    "# Setup\n",
    "plt.figure(figsize=(12, 8))\n",
    "\n",
    "# Base bar (total unique songs)\n",
    "plt.barh(\n",
    "    ['Unique Songs Played'],\n",
    "    [unique_songs_by_album['unique_song_count'].sum()],\n",
    "    color='lightgray'\n",
    ")\n",
    "\n",
    "# Stack segments\n",
    "left = 0\n",
    "for _, row in unique_songs_by_album.iterrows():\n",
    "    width = row['unique_song_count']\n",
    "    album = row['album_name']\n",
    "    color = album_colors[album]\n",
    "    \n",
    "    plt.barh(\n",
    "        ['Unique Songs Played'],\n",
    "        [width],\n",
    "        left=left,\n",
    "        color=color\n",
    "    )\n",
    "    left += width\n",
    "\n",
    "# Labels\n",
    "plt.xlabel(\"Number of Unique Songs\")\n",
    "plt.title(\"Unique Songs Played per Album on the [Untitled] Tour\")\n",
    "\n",
    "# Bottom legend\n",
    "legend_patches = [Patch(color=color, label=album) for album, color in album_colors.items()]\n",
    "plt.legend(\n",
    "    handles=legend_patches,\n",
    "    title='Album',\n",
    "    loc='lower center',\n",
    "    bbox_to_anchor=(0.5, -0.5),\n",
    "    ncol=3,  # tweak this depending on how many albums you have\n",
    "    frameon=False\n",
    ")\n",
    "\n",
    "plt.tight_layout()\n",
    "plt.show()"
   ]
  },
  {
   "cell_type": "code",
   "execution_count": null,
   "id": "692dd707-1edb-4a3f-97f2-b6114e7a07cd",
   "metadata": {},
   "outputs": [],
   "source": [
    "## Most Commonly Played Songs"
   ]
  },
  {
   "cell_type": "code",
   "execution_count": null,
   "id": "1fcdb671-b67f-4e17-8db6-f610bb34faf3",
   "metadata": {},
   "outputs": [],
   "source": [
    "## Openers and Closers"
   ]
  },
  {
   "cell_type": "code",
   "execution_count": null,
   "id": "6c036afa-2233-41cc-bcbc-8df454357229",
   "metadata": {},
   "outputs": [],
   "source": [
    "## Rarest Songs"
   ]
  },
  {
   "cell_type": "code",
   "execution_count": null,
   "id": "504a0138-cc8b-4af2-9ef0-9e9d9197dc17",
   "metadata": {},
   "outputs": [],
   "source": [
    "## Album Representation per Show"
   ]
  },
  {
   "cell_type": "code",
   "execution_count": null,
   "id": "f5d74ac6-d282-4a39-a1a0-dff81e80c563",
   "metadata": {},
   "outputs": [],
   "source": [
    "## How popularity moves within a set"
   ]
  },
  {
   "cell_type": "code",
   "execution_count": null,
   "id": "cfb8fd28-0e76-4e7e-8ec7-66b2eaddac05",
   "metadata": {},
   "outputs": [],
   "source": [
    "## City that got the worst or best set list"
   ]
  },
  {
   "cell_type": "code",
   "execution_count": null,
   "id": "8bde2d12-75d6-4bb6-b213-e5b19631f893",
   "metadata": {},
   "outputs": [],
   "source": [
    "## How popularity moved for the tour (avg. Popularity per show)"
   ]
  }
 ],
 "metadata": {
  "kernelspec": {
   "display_name": "Python 3 (ipykernel)",
   "language": "python",
   "name": "python3"
  },
  "language_info": {
   "codemirror_mode": {
    "name": "ipython",
    "version": 3
   },
   "file_extension": ".py",
   "mimetype": "text/x-python",
   "name": "python",
   "nbconvert_exporter": "python",
   "pygments_lexer": "ipython3",
   "version": "3.13.2"
  }
 },
 "nbformat": 4,
 "nbformat_minor": 5
}
